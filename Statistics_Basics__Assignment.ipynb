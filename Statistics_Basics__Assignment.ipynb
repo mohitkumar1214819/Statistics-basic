{
  "nbformat": 4,
  "nbformat_minor": 0,
  "metadata": {
    "colab": {
      "provenance": []
    },
    "kernelspec": {
      "name": "python3",
      "display_name": "Python 3"
    },
    "language_info": {
      "name": "python"
    }
  },
  "cells": [
    {
      "cell_type": "markdown",
      "source": [
        "**Statistics Basics| Assignment**"
      ],
      "metadata": {
        "id": "Ew6aQlfpH1Oy"
      }
    },
    {
      "cell_type": "markdown",
      "source": [
        "**Q1.What is the difference between descriptive statistics and inferential\n",
        "statistics? Explain with examples.**\n",
        "\n",
        "\n",
        "ANS. **Descriptive Statistics**\n",
        "\n",
        "Descriptive statistics summarize and describe a dataset to understand its main features, using measures like mean, median, and standard deviation.\n",
        "\n",
        "**Example:**\n",
        "\n",
        " You survey all 500 students in a particular school and find the average score on a test is 75%, with a standard deviation of 10%.\n",
        "\n",
        "**Inferential Statistics**\n",
        "\n",
        "inferential statistics make generalizations, predictions, and inferences about a larger population based on a smaller sample of data, using methods like hypothesis testing and confidence intervals\n",
        "\n",
        "**Example:**\n",
        "\n",
        " To understand the average test score of all 8th-grade students in the state, you randomly select 100 students from across the state and find their average score is 70% with a 95% confidence interval between 68% and 72%. You can then infer that the statewide average for all 8th-graders likely falls within this range.\n"
      ],
      "metadata": {
        "id": "XLjEWHhxH-1T"
      }
    },
    {
      "cell_type": "markdown",
      "source": [
        "**Q2.What is sampling in statistics? Explain the differences between random and stratified sampling.**\n",
        "\n",
        "ANS. Sampling is selecting a smaller, representative group from a larger population to study, allowing for conclusions about the entire population without analyzing every single member.\n",
        "\n",
        "**Random Sampling**\n",
        "\n",
        "random sampling gives every individual an equal chance of selection.\n",
        "\n",
        "**Stratified Sampling**\n",
        "\n",
        "stratified sampling first divides the population into distinct subgroups (strata) and then takes a random sample from each subgroup to ensure all segments are represented. Stratified sampling is more complex but provides more accurate results when certain subgroups are important or might be underrepresented in a simple random sample.  "
      ],
      "metadata": {
        "id": "OOjf7OPTILSA"
      }
    },
    {
      "cell_type": "markdown",
      "source": [
        "**Q3. Define mean, median, and mode. Explain why these measures of central tendency are important.**\n",
        "\n",
        "ANS. **Mean:**\n",
        "\n",
        " Also known as the average, the mean is calculated by adding up all the numbers in a dataset and then dividing that sum by the total number of values.\n",
        "**Median:**\n",
        "\n",
        " The median is the middle value in a dataset that has been arranged in numerical order, from smallest to largest. If there's an even number of values, the median is the average of the two middle numbers.\n",
        "**Mode:**\n",
        "\n",
        " The mode is the value that appears most often in a dataset. A dataset can have one mode, multiple modes, or no mode at all.\n",
        "\n",
        "# Why They Are Important\n",
        "\n",
        "**Data Summarization:**\n",
        "\n",
        " They provide a single, easy-to-understand value that represents the entire dataset, making complex data more accessible and easier to grasp.\n",
        "**Identifying Typical Values:**\n",
        "\n",
        " By pinpointing the center of the data, these measures reveal the most common or average outcome, helping to understand what's \"normal\" for a particular set of information.\n",
        "\n",
        "**Highlighting Data Characteristics:**\n",
        "\n",
        "The mean uses all data points, offering a general average but can be skewed by extreme values (outliers).\n",
        "\n",
        "The median is less affected by outliers and gives a better sense of the center for skewed datasets.\n",
        "\n",
        "The mode is useful for identifying the most common occurrence and is the only measure that can be used for categorical (non-numerical) data.\n",
        "\n",
        "**Decision-Making:**\n",
        "\n",
        "By offering insights into data distribution and trends, these measures are vital for analysis and informed decision-making in various fields.\n",
        "\n",
        "**Data Comparison:**\n",
        "\n",
        "They allow for comparisons between different datasets, helping to understand how groups of data compare to one another."
      ],
      "metadata": {
        "id": "-4gewjNNKAXN"
      }
    },
    {
      "cell_type": "markdown",
      "source": [
        "**Q4. Explain skewness and kurtosis. What does a positive skew imply about the data?**\n",
        "\n",
        "ANS. **Skewness**:\n",
        "\n",
        "Skewness is a statistical measure of the asymmetry of a probability distribution.\n",
        "\n",
        "**kurtosis**\n",
        "\n",
        "Kurtosis measures the peakedness and \"tail weight\" of a distribution's probability curve.\n",
        "\n",
        "# What does a Positive Skew imply about the data?\n",
        "**Longer Right Tail:**\n",
        "\n",
        " A positive skew indicates that the tail of the distribution extends further to the right, meaning there are some high-value data points.\n",
        "\n",
        "**Data Concentration:**\n",
        "\n",
        " The majority of the data points are clustered on the lower end of the scale.\n",
        "\n",
        "**Mean vs. Median:**\n",
        "\n",
        " The mean is pulled in the direction of the extreme values and will generally be greater than the median in a positively skewed distribution.\n",
        "\n",
        "**Examples:**\n",
        "\n",
        " Data like income or housing prices are often positively skewed, as there are many individuals with average incomes or housing values, but a few with exceptionally high values.\n"
      ],
      "metadata": {
        "id": "-vBZziajLBEI"
      }
    },
    {
      "cell_type": "markdown",
      "source": [
        "**Q5. Implement a Python program to compute the mean, median, and mode of a given list of numbers.\n",
        "numbers = [12, 15, 12, 18, 19, 12, 20, 22, 19, 19, 24, 24, 24, 26, 28]**\n",
        "\n"
      ],
      "metadata": {
        "id": "VMgKbvLFMef9"
      }
    },
    {
      "cell_type": "code",
      "source": [
        "import statistics\n",
        "numbers = [12,15,12,18,19,12,20,22,19,19,24,24,24,26,28]\n",
        "\n",
        "statistics.mean(numbers)\n"
      ],
      "metadata": {
        "colab": {
          "base_uri": "https://localhost:8080/"
        },
        "id": "0urDzWq2M31A",
        "outputId": "7a523555-08f6-4123-edd2-081ef5be8ab3"
      },
      "execution_count": 15,
      "outputs": [
        {
          "output_type": "execute_result",
          "data": {
            "text/plain": [
              "19.6"
            ]
          },
          "metadata": {},
          "execution_count": 15
        }
      ]
    },
    {
      "cell_type": "code",
      "source": [
        "import statistics\n",
        "numbers = [12,15,12,18,19,12,20,22,19,19,24,24,24,26,28]\n",
        "\n",
        "statistics.median(numbers)"
      ],
      "metadata": {
        "colab": {
          "base_uri": "https://localhost:8080/"
        },
        "id": "K6zC29wTOX4g",
        "outputId": "a0cd82d1-7ef5-4fde-9e7b-95bccc0ab61d"
      },
      "execution_count": 14,
      "outputs": [
        {
          "output_type": "execute_result",
          "data": {
            "text/plain": [
              "19"
            ]
          },
          "metadata": {},
          "execution_count": 14
        }
      ]
    },
    {
      "cell_type": "code",
      "source": [
        "import statistics\n",
        "numbers = [12,15,12,18,19,12,20,22,19,19,24,24,24,26,28]\n",
        "\n",
        "statistics.mode(numbers)"
      ],
      "metadata": {
        "colab": {
          "base_uri": "https://localhost:8080/"
        },
        "id": "voX-4PznOf8X",
        "outputId": "82d9c3fc-237a-47c0-dbff-2eb003b9ee3d"
      },
      "execution_count": 17,
      "outputs": [
        {
          "output_type": "execute_result",
          "data": {
            "text/plain": [
              "12"
            ]
          },
          "metadata": {},
          "execution_count": 17
        }
      ]
    },
    {
      "cell_type": "markdown",
      "source": [
        "**Q6. Compute the covariance and correlation coefficient between the following\n",
        "two datasets provided as lists in Python:\n",
        "\n",
        "list_x = [10, 20, 30, 40, 50]\n",
        "\n",
        "list_y = [15, 25, 35, 45, 60]**"
      ],
      "metadata": {
        "id": "etlfLi53PF9_"
      }
    },
    {
      "cell_type": "code",
      "metadata": {
        "colab": {
          "base_uri": "https://localhost:8080/"
        },
        "id": "606283db",
        "outputId": "4288ade3-6397-4701-c4cc-2fa4158ccd8b"
      },
      "source": [
        "import numpy as np\n",
        "\n",
        "list_x = [10, 20, 30, 40, 50]\n",
        "list_y = [15, 25, 35, 45, 60]\n",
        "\n",
        "# Compute covariance\n",
        "covariance = np.cov(list_x, list_y)[0][1]\n",
        "print(f\"Covariance: {covariance}\")\n",
        "\n",
        "# Compute correlation coefficient\n",
        "correlation_coefficient = np.corrcoef(list_x, list_y)[0][1]\n",
        "print(f\"Correlation Coefficient: {correlation_coefficient}\")"
      ],
      "execution_count": 18,
      "outputs": [
        {
          "output_type": "stream",
          "name": "stdout",
          "text": [
            "Covariance: 275.0\n",
            "Correlation Coefficient: 0.995893206467704\n"
          ]
        }
      ]
    },
    {
      "cell_type": "markdown",
      "source": [
        "**Q7.Write a Python script to draw a boxplot for the following numeric list and\n",
        "identify its outliers. Explain the result:**\n",
        "\n",
        "**data = [12, 14, 14, 15, 18, 19, 19, 21, 22, 22, 23, 23, 24, 26, 29, 35]**"
      ],
      "metadata": {
        "id": "vDOvSzEsQNlf"
      }
    },
    {
      "cell_type": "code",
      "source": [
        "import seaborn as sns\n",
        "\n",
        "data = [12,14,14,15,18,19,19,21,22,22,23,23,24,26,29,35]\n",
        "\n",
        "sns.boxplot(data)"
      ],
      "metadata": {
        "colab": {
          "base_uri": "https://localhost:8080/",
          "height": 428
        },
        "id": "T2uz3NTGQhHk",
        "outputId": "f30a3ac7-02da-48c6-e17d-98628a87f617"
      },
      "execution_count": 20,
      "outputs": [
        {
          "output_type": "execute_result",
          "data": {
            "text/plain": [
              "<Axes: >"
            ]
          },
          "metadata": {},
          "execution_count": 20
        },
        {
          "output_type": "display_data",
          "data": {
            "text/plain": [
              "<Figure size 640x480 with 1 Axes>"
            ],
            "image/png": "[encoded data removed]"
          },
          "metadata": {}
        }
      ]
    },
    {
      "cell_type": "markdown",
      "source": [
        "**Q8.You are working as a data analyst in an e-commerce company. The\n",
        "marketing team wants to know if there is a relationship between advertising spend and daily sales.**\n",
        "\n",
        "**● Explain how you would use covariance and correlation to explore this\n",
        "relationship.**\n",
        "\n",
        "**● Write Python code to compute the correlation between the two lists:**\n",
        "\n",
        "**advertising_spend = [200, 250, 300, 400, 500]**\n",
        "\n",
        "**daily_sales = [2200, 2450, 2750, 3200, 4000]**"
      ],
      "metadata": {
        "id": "xOuAQ8w2RC1h"
      }
    },
    {
      "cell_type": "code",
      "source": [
        "import numpy as np\n",
        "\n",
        "advertising_spend = [200, 250, 300, 400, 500]\n",
        "daily_sales = [2200, 2450, 2750, 3200, 4000]\n",
        "\n",
        "# Compute covariance\n",
        "covariance = np.cov(advertising_spend, daily_sales)[0][1]\n",
        "print(f\"Covariance: {covariance}\")\n",
        "\n",
        " #Compute correlation coefficient\n",
        "\n",
        "correlation_coefficient = np.corrcoef(advertising_spend, daily_sales)[0][1]\n",
        "print(f\"Correlation Coefficient: {correlation_coefficient}\")\n",
        "\n"
      ],
      "metadata": {
        "colab": {
          "base_uri": "https://localhost:8080/"
        },
        "id": "lJSf9PdFReBl",
        "outputId": "54947eb7-219b-41d5-d84a-a0c7818a0d6a"
      },
      "execution_count": 21,
      "outputs": [
        {
          "output_type": "stream",
          "name": "stdout",
          "text": [
            "Covariance: 84875.0\n",
            "Correlation Coefficient: 0.9935824101653329\n"
          ]
        }
      ]
    },
    {
      "cell_type": "markdown",
      "source": [
        "**Q9.Your team has collected customer satisfaction survey data on a scale of 1-10 and wants to understand its distribution before launching a new product.**\n",
        "\n",
        "**● Explain which summary statistics and visualizations (e.g. mean, standard deviation, histogram) you’d use.**\n",
        "\n",
        "**● Write Python code to create a histogram using Matplotlib for the survey data:**\n",
        "\n",
        "**survey_scores = [7, 8, 5, 9, 6, 7, 8, 9, 10, 4, 7, 6, 9, 8, 7]**"
      ],
      "metadata": {
        "id": "HZ1kz6HnSxur"
      }
    },
    {
      "cell_type": "code",
      "metadata": {
        "colab": {
          "base_uri": "https://localhost:8080/",
          "height": 564
        },
        "id": "33142c18",
        "outputId": "a8a4dede-4d52-4d1c-abcd-e41c34ef4d46"
      },
      "source": [
        "import matplotlib.pyplot as plt\n",
        "import seaborn as sns\n",
        "\n",
        "survey_scores = [7, 8, 5, 9, 6, 7, 8, 9, 10, 4, 7, 6, 9, 8, 7]\n",
        "\n",
        "plt.figure(figsize=(8, 6))\n",
        "sns.histplot(survey_scores, bins=7, kde=True) # Adjust bins as needed\n",
        "plt.title('Distribution of Customer Satisfaction Survey Scores')\n",
        "plt.xlabel('Survey Score')\n",
        "plt.ylabel('Frequency')\n",
        "plt.show()"
      ],
      "execution_count": 22,
      "outputs": [
        {
          "output_type": "display_data",
          "data": {
            "text/plain": [
              "<Figure size 800x600 with 1 Axes>"
            ],
            "image/png": "[encoded data removed]"
          },
          "metadata": {}
        }
      ]
    }
  ]
}